{
 "cells": [
  {
   "cell_type": "code",
   "execution_count": 11,
   "id": "abbe1574-103e-4224-ab3b-d5e353ccad1d",
   "metadata": {},
   "outputs": [],
   "source": [
    "import numpy as np\n",
    "import matplotlib.pyplot as plt\n",
    "import pandas as pd\n",
    "import os\n",
    "import pickle\n",
    "from scipy import stats\n",
    "import matplotlib.pyplot as plt\n",
    "import scipy.io\n",
    "import pickle"
   ]
  },
  {
   "cell_type": "code",
   "execution_count": 12,
   "id": "8392db7d-4140-46e0-869a-161bdf09d7f3",
   "metadata": {},
   "outputs": [],
   "source": [
    "import torch\n",
    "import torch.nn as nn\n",
    "import torch.nn.functional as F\n",
    "from torch.utils.data import Dataset, DataLoader\n",
    "import pickle\n",
    "import numpy as np\n",
    "import matplotlib.pyplot as plt\n",
    "import sys\n",
    "from IPython.display import clear_output\n",
    "np.set_printoptions(threshold=sys.maxsize)"
   ]
  },
  {
   "cell_type": "code",
   "execution_count": 13,
   "id": "4c988f8c-18b0-49ca-9921-587cca851c7e",
   "metadata": {},
   "outputs": [],
   "source": [
    "Dict = {'z9': [10, 11, 12, 13, 14, 16, 19, 22, 24], 'e218': [20, 21, 22, 23, 28, 31, 32, 36, 37, 39, 40, 42, 43, 45, 48, 49, 51, 52, 53, 54, 56, 57], 'e186': [2, 3, 4, 5, 6, 35, 10, 14, 17, 21, 25, 26, 30], 'e216': [7, 8, 9, 10, 32, 33, 38, 39, 40, 42, 43, 44, 45, 46, 47, 51, 52, 55, 56, 58, 59, 61, 63], 'e190': [33, 34, 35, 41, 42, 27, 28, 29], 'e201': [66, 69, 72, 50, 51, 52, 53, 54, 57, 60, 63], 'z8': [33, 12, 13, 14, 16, 17, 21, 24, 26, 28, 30]}"
   ]
  },
  {
   "cell_type": "code",
   "execution_count": 14,
   "id": "253d2857-00e2-4cab-aab9-80cbafe6a9a4",
   "metadata": {},
   "outputs": [],
   "source": [
    "# covert time series data from numpy to tensor\n",
    "class CreateTimeSeriesData(Dataset):\n",
    "    def __init__(self, x, y):\n",
    "        self.x = x\n",
    "        self.y = y\n",
    "\n",
    "    def __len__(self):\n",
    "        return len(self.x)\n",
    "\n",
    "    def __getitem__(self, i):\n",
    "        return self.x[i], self.y[i]"
   ]
  },
  {
   "cell_type": "code",
   "execution_count": 16,
   "id": "7bf96ab0-32c2-49ec-9f90-5de1ea515450",
   "metadata": {},
   "outputs": [],
   "source": [
    "# smooth the signals from binary to lick rate\n",
    "def SmoothSig(TempDopa, window_size = 10):\n",
    "    ts = pd.DataFrame(TempDopa.copy())\n",
    "#     tss = np.array(ts.rolling(window=20, win_type=\"gaussian\", center=True).mean(std=8))\n",
    "    tss = np.array(ts.rolling(window=window_size, center=True).mean())\n",
    "    tss[:window_size//2+1] = TempDopa[:window_size//2+1]\n",
    "    tss[-window_size//2:] = TempDopa[-window_size//2:]\n",
    "    return tss"
   ]
  },
  {
   "cell_type": "code",
   "execution_count": null,
   "id": "2821cc38-dfc2-4b9f-885c-0f586ff3f3a4",
   "metadata": {},
   "outputs": [],
   "source": [
    "# enter the mouse id and day to get a list of Fc3 signals, dFF signals, lick rate, reward postions.\n",
    "# interneuron trigger means the filter of skewness. False means skewness > 2\n",
    "def GetData(mice, day, interneuron = False):\n",
    "    if day < 10:\n",
    "        day = '0' + str(day)\n",
    "    try:\n",
    "        mat = scipy.io.loadmat('Y:\\\\analysis\\\\fmats\\\\{}\\\\{}_day0{}_plane0_Fall.mat'.format(mice, mice, day))\n",
    "    except:\n",
    "        mat = scipy.io.loadmat('Y:\\\\analysis\\\\fmats\\\\{}\\\\days\\\\{}_day0{}_plane0_Fall.mat'.format(mice, mice, day))\n",
    "    # print(mat.keys())\n",
    "    # print(mat.keys())\n",
    "    y = mat['ybinned'][0]\n",
    "    licks = np.transpose(mat['licks'])\n",
    "    licks = SmoothSig(licks, 15)\n",
    "    licks = licks[:,0].copy()\n",
    "    # the index of trials in each epoch\n",
    "    Trialnum = mat['trialnum'][0]\n",
    "    # The reward position in the track\n",
    "    RewardPos = mat['changeRewLoc'][0]\n",
    "    EpochPos = np.where(RewardPos > 0)[0]\n",
    "    reward_loc = RewardPos[EpochPos]\n",
    "    R = mat['rewards'][0]\n",
    "    Sigs = np.transpose(mat['Fc3'])\n",
    "    Sigs_dFF = np.transpose(mat['dFF'])\n",
    "    skew = scipy.stats.skew(Sigs_dFF, nan_policy='omit', axis=1)\n",
    "    iscell = mat['iscell']\n",
    "    # print(skew[(mat['bordercells'][0] < 1) & (mat['iscell'][:,0] > 0)])\n",
    "    try:\n",
    "        if not interneuron:\n",
    "            idx = np.where( (mat['bordercells'][0] < 1) & (mat['iscell'][:,0] > 0) & (skew > 2) )[0]\n",
    "        else:\n",
    "            idx = np.where( (mat['bordercells'][0] < 1) & (mat['iscell'][:,0] > 0) )[0]\n",
    "        # & (skew < 2)\n",
    "        # idx = np.where( (mat['iscell'][:,0] > 0) )[0]\n",
    "    except:\n",
    "        print('No bordercells.')\n",
    "        idx = np.where( (mat['iscell'][:,0] > 0) & (skew > 2) )[0]\n",
    "    og_idx = idx.copy()\n",
    "    NeuronActivity = Sigs[idx,:]\n",
    "    NeuronActivity_dFF = Sigs_dFF[idx,:]\n",
    "    idx_new = np.where(abs(NeuronActivity.max(axis = 1)) < 20)[0]\n",
    "\n",
    "    EpochPos = np.where(mat['changeRewLoc'][0]>0)[0]\n",
    "    EpochSig = []\n",
    "    EpochSig_dFF = []\n",
    "    EpochY = []\n",
    "    EpochLicks = []\n",
    "    EpochLicksClass = []\n",
    "    EpochTrialnum = []\n",
    "    EpochR = []\n",
    "    for i in range(len(EpochPos)-1):\n",
    "        EpochSig.append(NeuronActivity[idx_new,EpochPos[i]:EpochPos[i+1]])\n",
    "        EpochSig_dFF.append(NeuronActivity_dFF[idx_new,EpochPos[i]:EpochPos[i+1]])\n",
    "        EpochY.append(y[EpochPos[i]:EpochPos[i+1]])\n",
    "        EpochLicks.append(licks[EpochPos[i]:EpochPos[i+1]])\n",
    "        EpochTrialnum.append(Trialnum[EpochPos[i]:EpochPos[i+1]])\n",
    "        EpochR.append(R[EpochPos[i]:EpochPos[i+1]])\n",
    "    EpochSig.append(NeuronActivity[idx_new,EpochPos[-1]:])\n",
    "    EpochSig_dFF.append(NeuronActivity_dFF[idx_new,EpochPos[-1]:])\n",
    "    EpochY.append(y[EpochPos[-1]:])\n",
    "    EpochLicks.append(licks[EpochPos[-1]:])\n",
    "    EpochTrialnum.append(Trialnum[EpochPos[-1]:])\n",
    "    EpochR.append(R[EpochPos[-1]:])\n",
    "\n",
    "    EpochTrialSigs = []\n",
    "    EpochTrialSigs_dFF = []\n",
    "    EpochTrialY = []\n",
    "    EpochTrialLicks = []\n",
    "    EpochTrialLicksClass = []\n",
    "    EpochTrialR = []\n",
    "    \n",
    "    for epochs, epochs_dff, epochy, epocht, epochr, epochl in zip(EpochSig, EpochSig_dFF, EpochY, EpochTrialnum, EpochR, EpochLicks):\n",
    "        temp_sig = []\n",
    "        temp_sig_dFF = []\n",
    "        temp_y = []\n",
    "        temp_r = []\n",
    "        temp_l = []\n",
    "        for i in range(epocht[:-10].min(),epocht[10:].max()+1):\n",
    "            if i >= 0:\n",
    "                idx = np.where(epocht == i)[0]\n",
    "                temp_sig.append(epochs[:, idx[0]:idx[-1]+1])\n",
    "                temp_sig_dFF.append(epochs_dff[:, idx[0]:idx[-1]+1])\n",
    "                temp_y.append(epochy[idx[0]:idx[-1]+1])\n",
    "                temp_l.append(epochl[idx[0]:idx[-1]+1])\n",
    "                if i < 3:\n",
    "                    temp_r.append(-1)\n",
    "                elif 1 in epochr[idx[0]:idx[-1]+1]:\n",
    "                    temp_r.append(1)\n",
    "                else:\n",
    "                    temp_r.append(0)\n",
    "            \n",
    "        EpochTrialSigs.append(temp_sig)\n",
    "        EpochTrialSigs_dFF.append(temp_sig_dFF)\n",
    "        EpochTrialY.append(temp_y)\n",
    "        EpochTrialLicks.append(temp_l)\n",
    "        EpochTrialR.append(temp_r)\n",
    "\n",
    "    return EpochTrialSigs, EpochTrialSigs_dFF, EpochTrialY, EpochTrialLicks, EpochTrialR, reward_loc, og_idx\n",
    "\n",
    "# Change mouse id, day, and epoch to select which data you want to use\n",
    "mouse = 'e201'\n",
    "day = 51\n",
    "ep = 0\n",
    "Fc3, X, Y, L, TP, rl, og_idx = GetData(mouse, day, interneuron = False)\n",
    "print(Fc3[0][0].shape)"
   ]
  },
  {
   "cell_type": "code",
   "execution_count": 8,
   "id": "3e3d9536-d7ce-49c8-a81f-5e4d970456ef",
   "metadata": {},
   "outputs": [
    {
     "ename": "NameError",
     "evalue": "name 'L' is not defined",
     "output_type": "error",
     "traceback": [
      "\u001b[1;31m---------------------------------------------------------------------------\u001b[0m",
      "\u001b[1;31mNameError\u001b[0m                                 Traceback (most recent call last)",
      "Cell \u001b[1;32mIn[8], line 1\u001b[0m\n\u001b[1;32m----> 1\u001b[0m plt\u001b[38;5;241m.\u001b[39mplot(\u001b[43mL\u001b[49m[\u001b[38;5;241m0\u001b[39m][\u001b[38;5;241m1\u001b[39m])\n",
      "\u001b[1;31mNameError\u001b[0m: name 'L' is not defined"
     ]
    }
   ],
   "source": [
    "plt.plot(L[0][1])"
   ]
  },
  {
   "cell_type": "code",
   "execution_count": 10,
   "id": "885ec100-6c2c-4db6-95cc-4a35e2562bfe",
   "metadata": {},
   "outputs": [
    {
     "ename": "FileNotFoundError",
     "evalue": "[Errno 2] No such file or directory: 'D:\\\\Pyra_Cell_Data\\\\cell_features_pyr_goal.csv'",
     "output_type": "error",
     "traceback": [
      "\u001b[1;31m---------------------------------------------------------------------------\u001b[0m",
      "\u001b[1;31mFileNotFoundError\u001b[0m                         Traceback (most recent call last)",
      "Cell \u001b[1;32mIn[10], line 40\u001b[0m\n\u001b[0;32m     36\u001b[0m     \u001b[38;5;28;01mreturn\u001b[39;00m RR_List, PP_List, Null_List, Ori_idx, temp\u001b[38;5;241m.\u001b[39mshape[\u001b[38;5;241m0\u001b[39m]\n\u001b[0;32m     38\u001b[0m \u001b[38;5;66;03m# change path to read your feature table\u001b[39;00m\n\u001b[0;32m     39\u001b[0m \u001b[38;5;66;03m# epoch index in feature table is from 1 to n, epoch index in python is from 0 to n-1.\u001b[39;00m\n\u001b[1;32m---> 40\u001b[0m cell_features \u001b[38;5;241m=\u001b[39m \u001b[43mpd\u001b[49m\u001b[38;5;241;43m.\u001b[39;49m\u001b[43mread_csv\u001b[49m\u001b[43m(\u001b[49m\u001b[38;5;124;43m'\u001b[39;49m\u001b[38;5;124;43mD:\u001b[39;49m\u001b[38;5;130;43;01m\\\\\u001b[39;49;00m\u001b[38;5;124;43mPyra_Cell_Data\u001b[39;49m\u001b[38;5;130;43;01m\\\\\u001b[39;49;00m\u001b[38;5;124;43mcell_features_pyr_goal.csv\u001b[39;49m\u001b[38;5;124;43m'\u001b[39;49m\u001b[43m)\u001b[49m\n\u001b[0;32m     41\u001b[0m \u001b[38;5;28;01mif\u001b[39;00m ep \u001b[38;5;241m==\u001b[39m \u001b[38;5;28mlen\u001b[39m(Fc3)\u001b[38;5;241m-\u001b[39m\u001b[38;5;241m1\u001b[39m:\n\u001b[0;32m     42\u001b[0m     RR_List, PP_List, Null_List, Ori_idx, total_num \u001b[38;5;241m=\u001b[39m FindNeuronType (cell_features, mouse, day, ep, ep\u001b[38;5;241m+\u001b[39m\u001b[38;5;241m1\u001b[39m)\n",
      "File \u001b[1;32mc:\\Users\\Han\\anaconda3\\lib\\site-packages\\pandas\\io\\parsers\\readers.py:1026\u001b[0m, in \u001b[0;36mread_csv\u001b[1;34m(filepath_or_buffer, sep, delimiter, header, names, index_col, usecols, dtype, engine, converters, true_values, false_values, skipinitialspace, skiprows, skipfooter, nrows, na_values, keep_default_na, na_filter, verbose, skip_blank_lines, parse_dates, infer_datetime_format, keep_date_col, date_parser, date_format, dayfirst, cache_dates, iterator, chunksize, compression, thousands, decimal, lineterminator, quotechar, quoting, doublequote, escapechar, comment, encoding, encoding_errors, dialect, on_bad_lines, delim_whitespace, low_memory, memory_map, float_precision, storage_options, dtype_backend)\u001b[0m\n\u001b[0;32m   1013\u001b[0m kwds_defaults \u001b[38;5;241m=\u001b[39m _refine_defaults_read(\n\u001b[0;32m   1014\u001b[0m     dialect,\n\u001b[0;32m   1015\u001b[0m     delimiter,\n\u001b[1;32m   (...)\u001b[0m\n\u001b[0;32m   1022\u001b[0m     dtype_backend\u001b[38;5;241m=\u001b[39mdtype_backend,\n\u001b[0;32m   1023\u001b[0m )\n\u001b[0;32m   1024\u001b[0m kwds\u001b[38;5;241m.\u001b[39mupdate(kwds_defaults)\n\u001b[1;32m-> 1026\u001b[0m \u001b[38;5;28;01mreturn\u001b[39;00m \u001b[43m_read\u001b[49m\u001b[43m(\u001b[49m\u001b[43mfilepath_or_buffer\u001b[49m\u001b[43m,\u001b[49m\u001b[43m \u001b[49m\u001b[43mkwds\u001b[49m\u001b[43m)\u001b[49m\n",
      "File \u001b[1;32mc:\\Users\\Han\\anaconda3\\lib\\site-packages\\pandas\\io\\parsers\\readers.py:620\u001b[0m, in \u001b[0;36m_read\u001b[1;34m(filepath_or_buffer, kwds)\u001b[0m\n\u001b[0;32m    617\u001b[0m _validate_names(kwds\u001b[38;5;241m.\u001b[39mget(\u001b[38;5;124m\"\u001b[39m\u001b[38;5;124mnames\u001b[39m\u001b[38;5;124m\"\u001b[39m, \u001b[38;5;28;01mNone\u001b[39;00m))\n\u001b[0;32m    619\u001b[0m \u001b[38;5;66;03m# Create the parser.\u001b[39;00m\n\u001b[1;32m--> 620\u001b[0m parser \u001b[38;5;241m=\u001b[39m TextFileReader(filepath_or_buffer, \u001b[38;5;241m*\u001b[39m\u001b[38;5;241m*\u001b[39mkwds)\n\u001b[0;32m    622\u001b[0m \u001b[38;5;28;01mif\u001b[39;00m chunksize \u001b[38;5;129;01mor\u001b[39;00m iterator:\n\u001b[0;32m    623\u001b[0m     \u001b[38;5;28;01mreturn\u001b[39;00m parser\n",
      "File \u001b[1;32mc:\\Users\\Han\\anaconda3\\lib\\site-packages\\pandas\\io\\parsers\\readers.py:1620\u001b[0m, in \u001b[0;36mTextFileReader.__init__\u001b[1;34m(self, f, engine, **kwds)\u001b[0m\n\u001b[0;32m   1617\u001b[0m     \u001b[38;5;28mself\u001b[39m\u001b[38;5;241m.\u001b[39moptions[\u001b[38;5;124m\"\u001b[39m\u001b[38;5;124mhas_index_names\u001b[39m\u001b[38;5;124m\"\u001b[39m] \u001b[38;5;241m=\u001b[39m kwds[\u001b[38;5;124m\"\u001b[39m\u001b[38;5;124mhas_index_names\u001b[39m\u001b[38;5;124m\"\u001b[39m]\n\u001b[0;32m   1619\u001b[0m \u001b[38;5;28mself\u001b[39m\u001b[38;5;241m.\u001b[39mhandles: IOHandles \u001b[38;5;241m|\u001b[39m \u001b[38;5;28;01mNone\u001b[39;00m \u001b[38;5;241m=\u001b[39m \u001b[38;5;28;01mNone\u001b[39;00m\n\u001b[1;32m-> 1620\u001b[0m \u001b[38;5;28mself\u001b[39m\u001b[38;5;241m.\u001b[39m_engine \u001b[38;5;241m=\u001b[39m \u001b[38;5;28;43mself\u001b[39;49m\u001b[38;5;241;43m.\u001b[39;49m\u001b[43m_make_engine\u001b[49m\u001b[43m(\u001b[49m\u001b[43mf\u001b[49m\u001b[43m,\u001b[49m\u001b[43m \u001b[49m\u001b[38;5;28;43mself\u001b[39;49m\u001b[38;5;241;43m.\u001b[39;49m\u001b[43mengine\u001b[49m\u001b[43m)\u001b[49m\n",
      "File \u001b[1;32mc:\\Users\\Han\\anaconda3\\lib\\site-packages\\pandas\\io\\parsers\\readers.py:1880\u001b[0m, in \u001b[0;36mTextFileReader._make_engine\u001b[1;34m(self, f, engine)\u001b[0m\n\u001b[0;32m   1878\u001b[0m     \u001b[38;5;28;01mif\u001b[39;00m \u001b[38;5;124m\"\u001b[39m\u001b[38;5;124mb\u001b[39m\u001b[38;5;124m\"\u001b[39m \u001b[38;5;129;01mnot\u001b[39;00m \u001b[38;5;129;01min\u001b[39;00m mode:\n\u001b[0;32m   1879\u001b[0m         mode \u001b[38;5;241m+\u001b[39m\u001b[38;5;241m=\u001b[39m \u001b[38;5;124m\"\u001b[39m\u001b[38;5;124mb\u001b[39m\u001b[38;5;124m\"\u001b[39m\n\u001b[1;32m-> 1880\u001b[0m \u001b[38;5;28mself\u001b[39m\u001b[38;5;241m.\u001b[39mhandles \u001b[38;5;241m=\u001b[39m \u001b[43mget_handle\u001b[49m\u001b[43m(\u001b[49m\n\u001b[0;32m   1881\u001b[0m \u001b[43m    \u001b[49m\u001b[43mf\u001b[49m\u001b[43m,\u001b[49m\n\u001b[0;32m   1882\u001b[0m \u001b[43m    \u001b[49m\u001b[43mmode\u001b[49m\u001b[43m,\u001b[49m\n\u001b[0;32m   1883\u001b[0m \u001b[43m    \u001b[49m\u001b[43mencoding\u001b[49m\u001b[38;5;241;43m=\u001b[39;49m\u001b[38;5;28;43mself\u001b[39;49m\u001b[38;5;241;43m.\u001b[39;49m\u001b[43moptions\u001b[49m\u001b[38;5;241;43m.\u001b[39;49m\u001b[43mget\u001b[49m\u001b[43m(\u001b[49m\u001b[38;5;124;43m\"\u001b[39;49m\u001b[38;5;124;43mencoding\u001b[39;49m\u001b[38;5;124;43m\"\u001b[39;49m\u001b[43m,\u001b[49m\u001b[43m \u001b[49m\u001b[38;5;28;43;01mNone\u001b[39;49;00m\u001b[43m)\u001b[49m\u001b[43m,\u001b[49m\n\u001b[0;32m   1884\u001b[0m \u001b[43m    \u001b[49m\u001b[43mcompression\u001b[49m\u001b[38;5;241;43m=\u001b[39;49m\u001b[38;5;28;43mself\u001b[39;49m\u001b[38;5;241;43m.\u001b[39;49m\u001b[43moptions\u001b[49m\u001b[38;5;241;43m.\u001b[39;49m\u001b[43mget\u001b[49m\u001b[43m(\u001b[49m\u001b[38;5;124;43m\"\u001b[39;49m\u001b[38;5;124;43mcompression\u001b[39;49m\u001b[38;5;124;43m\"\u001b[39;49m\u001b[43m,\u001b[49m\u001b[43m \u001b[49m\u001b[38;5;28;43;01mNone\u001b[39;49;00m\u001b[43m)\u001b[49m\u001b[43m,\u001b[49m\n\u001b[0;32m   1885\u001b[0m \u001b[43m    \u001b[49m\u001b[43mmemory_map\u001b[49m\u001b[38;5;241;43m=\u001b[39;49m\u001b[38;5;28;43mself\u001b[39;49m\u001b[38;5;241;43m.\u001b[39;49m\u001b[43moptions\u001b[49m\u001b[38;5;241;43m.\u001b[39;49m\u001b[43mget\u001b[49m\u001b[43m(\u001b[49m\u001b[38;5;124;43m\"\u001b[39;49m\u001b[38;5;124;43mmemory_map\u001b[39;49m\u001b[38;5;124;43m\"\u001b[39;49m\u001b[43m,\u001b[49m\u001b[43m \u001b[49m\u001b[38;5;28;43;01mFalse\u001b[39;49;00m\u001b[43m)\u001b[49m\u001b[43m,\u001b[49m\n\u001b[0;32m   1886\u001b[0m \u001b[43m    \u001b[49m\u001b[43mis_text\u001b[49m\u001b[38;5;241;43m=\u001b[39;49m\u001b[43mis_text\u001b[49m\u001b[43m,\u001b[49m\n\u001b[0;32m   1887\u001b[0m \u001b[43m    \u001b[49m\u001b[43merrors\u001b[49m\u001b[38;5;241;43m=\u001b[39;49m\u001b[38;5;28;43mself\u001b[39;49m\u001b[38;5;241;43m.\u001b[39;49m\u001b[43moptions\u001b[49m\u001b[38;5;241;43m.\u001b[39;49m\u001b[43mget\u001b[49m\u001b[43m(\u001b[49m\u001b[38;5;124;43m\"\u001b[39;49m\u001b[38;5;124;43mencoding_errors\u001b[39;49m\u001b[38;5;124;43m\"\u001b[39;49m\u001b[43m,\u001b[49m\u001b[43m \u001b[49m\u001b[38;5;124;43m\"\u001b[39;49m\u001b[38;5;124;43mstrict\u001b[39;49m\u001b[38;5;124;43m\"\u001b[39;49m\u001b[43m)\u001b[49m\u001b[43m,\u001b[49m\n\u001b[0;32m   1888\u001b[0m \u001b[43m    \u001b[49m\u001b[43mstorage_options\u001b[49m\u001b[38;5;241;43m=\u001b[39;49m\u001b[38;5;28;43mself\u001b[39;49m\u001b[38;5;241;43m.\u001b[39;49m\u001b[43moptions\u001b[49m\u001b[38;5;241;43m.\u001b[39;49m\u001b[43mget\u001b[49m\u001b[43m(\u001b[49m\u001b[38;5;124;43m\"\u001b[39;49m\u001b[38;5;124;43mstorage_options\u001b[39;49m\u001b[38;5;124;43m\"\u001b[39;49m\u001b[43m,\u001b[49m\u001b[43m \u001b[49m\u001b[38;5;28;43;01mNone\u001b[39;49;00m\u001b[43m)\u001b[49m\u001b[43m,\u001b[49m\n\u001b[0;32m   1889\u001b[0m \u001b[43m\u001b[49m\u001b[43m)\u001b[49m\n\u001b[0;32m   1890\u001b[0m \u001b[38;5;28;01massert\u001b[39;00m \u001b[38;5;28mself\u001b[39m\u001b[38;5;241m.\u001b[39mhandles \u001b[38;5;129;01mis\u001b[39;00m \u001b[38;5;129;01mnot\u001b[39;00m \u001b[38;5;28;01mNone\u001b[39;00m\n\u001b[0;32m   1891\u001b[0m f \u001b[38;5;241m=\u001b[39m \u001b[38;5;28mself\u001b[39m\u001b[38;5;241m.\u001b[39mhandles\u001b[38;5;241m.\u001b[39mhandle\n",
      "File \u001b[1;32mc:\\Users\\Han\\anaconda3\\lib\\site-packages\\pandas\\io\\common.py:873\u001b[0m, in \u001b[0;36mget_handle\u001b[1;34m(path_or_buf, mode, encoding, compression, memory_map, is_text, errors, storage_options)\u001b[0m\n\u001b[0;32m    868\u001b[0m \u001b[38;5;28;01melif\u001b[39;00m \u001b[38;5;28misinstance\u001b[39m(handle, \u001b[38;5;28mstr\u001b[39m):\n\u001b[0;32m    869\u001b[0m     \u001b[38;5;66;03m# Check whether the filename is to be opened in binary mode.\u001b[39;00m\n\u001b[0;32m    870\u001b[0m     \u001b[38;5;66;03m# Binary mode does not support 'encoding' and 'newline'.\u001b[39;00m\n\u001b[0;32m    871\u001b[0m     \u001b[38;5;28;01mif\u001b[39;00m ioargs\u001b[38;5;241m.\u001b[39mencoding \u001b[38;5;129;01mand\u001b[39;00m \u001b[38;5;124m\"\u001b[39m\u001b[38;5;124mb\u001b[39m\u001b[38;5;124m\"\u001b[39m \u001b[38;5;129;01mnot\u001b[39;00m \u001b[38;5;129;01min\u001b[39;00m ioargs\u001b[38;5;241m.\u001b[39mmode:\n\u001b[0;32m    872\u001b[0m         \u001b[38;5;66;03m# Encoding\u001b[39;00m\n\u001b[1;32m--> 873\u001b[0m         handle \u001b[38;5;241m=\u001b[39m \u001b[38;5;28;43mopen\u001b[39;49m\u001b[43m(\u001b[49m\n\u001b[0;32m    874\u001b[0m \u001b[43m            \u001b[49m\u001b[43mhandle\u001b[49m\u001b[43m,\u001b[49m\n\u001b[0;32m    875\u001b[0m \u001b[43m            \u001b[49m\u001b[43mioargs\u001b[49m\u001b[38;5;241;43m.\u001b[39;49m\u001b[43mmode\u001b[49m\u001b[43m,\u001b[49m\n\u001b[0;32m    876\u001b[0m \u001b[43m            \u001b[49m\u001b[43mencoding\u001b[49m\u001b[38;5;241;43m=\u001b[39;49m\u001b[43mioargs\u001b[49m\u001b[38;5;241;43m.\u001b[39;49m\u001b[43mencoding\u001b[49m\u001b[43m,\u001b[49m\n\u001b[0;32m    877\u001b[0m \u001b[43m            \u001b[49m\u001b[43merrors\u001b[49m\u001b[38;5;241;43m=\u001b[39;49m\u001b[43merrors\u001b[49m\u001b[43m,\u001b[49m\n\u001b[0;32m    878\u001b[0m \u001b[43m            \u001b[49m\u001b[43mnewline\u001b[49m\u001b[38;5;241;43m=\u001b[39;49m\u001b[38;5;124;43m\"\u001b[39;49m\u001b[38;5;124;43m\"\u001b[39;49m\u001b[43m,\u001b[49m\n\u001b[0;32m    879\u001b[0m \u001b[43m        \u001b[49m\u001b[43m)\u001b[49m\n\u001b[0;32m    880\u001b[0m     \u001b[38;5;28;01melse\u001b[39;00m:\n\u001b[0;32m    881\u001b[0m         \u001b[38;5;66;03m# Binary mode\u001b[39;00m\n\u001b[0;32m    882\u001b[0m         handle \u001b[38;5;241m=\u001b[39m \u001b[38;5;28mopen\u001b[39m(handle, ioargs\u001b[38;5;241m.\u001b[39mmode)\n",
      "\u001b[1;31mFileNotFoundError\u001b[0m: [Errno 2] No such file or directory: 'D:\\\\Pyra_Cell_Data\\\\cell_features_pyr_goal.csv'"
     ]
    }
   ],
   "source": [
    "# Define the neuron type from the feature table created by Zahra.\n",
    "# Return RR index, PP index, others in terms of spatially tuned neurons, original index gives all spatially tuned indices from\n",
    "# all neurons. total_num is the total number of neurons in the feature table of this animal and this day.\n",
    "# the total number should match the neuron number after skewness filter in that day, i.e., Fc3[0][0].shape[0]\n",
    "def FindNeuronType(cell_features, m, d, e1, e2):\n",
    "    rr_com1 = cell_features['reward_relative_circular_com']\\\n",
    "    [(cell_features['animal'] == m) & (cell_features['recording_day'] == d) \\\n",
    "     & (cell_features['epoch'] == e1) & (cell_features['spatially_tuned'] == 1)].to_numpy()\n",
    "#         rr_com1 = rr_com1[abs(temp) > np.pi/8]\n",
    "\n",
    "    rr_com2 = cell_features['reward_relative_circular_com']\\\n",
    "    [(cell_features['animal'] == m) & (cell_features['recording_day'] == d) \\\n",
    "     & (cell_features['epoch'] == e2) & (cell_features['spatially_tuned'] == 1)].to_numpy()\n",
    "#         rr_com2 = rr_com2[abs(temp) > np.pi/8]\n",
    "\n",
    "    ac_com1 = cell_features['allocentric_com']\\\n",
    "    [(cell_features['animal'] == m) & (cell_features['recording_day'] == d) \\\n",
    "     & (cell_features['epoch'] == e1) & (cell_features['spatially_tuned'] == 1)].to_numpy()\n",
    "    temp = rr_com1.copy()\n",
    "#         ac_com1 = ac_com1[abs(temp) > np.pi/8]\n",
    "\n",
    "    ac_com2 = cell_features['allocentric_com']\\\n",
    "    [(cell_features['animal'] == m) & (cell_features['recording_day'] == d) \\\n",
    "     & (cell_features['epoch'] == e2) & (cell_features['spatially_tuned'] == 1)].to_numpy()\n",
    "    \n",
    "#     RR_List = np.where(abs(rr_com1 - rr_com2)/2/np.pi < 0.05)[0]\n",
    "#     PP_List = np.where(abs(ac_com1 - ac_com2)/2/135 < 0.05)[0]\n",
    "    RR_List = np.where(abs(rr_com1 - rr_com2)/2/np.pi < 20/270)[0]\n",
    "    PP_List = np.where(abs(ac_com1 - ac_com2)/2/135 < 20/270)[0]\n",
    "    Null_List = np.array([i for i in range(len(rr_com1)) if (i not in RR_List) and (i not in PP_List)])\n",
    "\n",
    "    temp = np.where((cell_features['animal'] == m) & (cell_features['recording_day'] == d) & (cell_features['epoch'] == e1))[0]\n",
    "    # print(temp.shape)\n",
    "    Ori_idx = np.where(cell_features['spatially_tuned'][temp] == 1)[0]\n",
    "    \n",
    "    return RR_List, PP_List, Null_List, Ori_idx, temp.shape[0]\n",
    "\n",
    "# change path to read your feature table\n",
    "# epoch index in feature table is from 1 to n, epoch index in python is from 0 to n-1.\n",
    "cell_features = pd.read_csv('D:\\\\Pyra_Cell_Data\\\\cell_features_pyr_goal.csv')\n",
    "if ep == len(Fc3)-1:\n",
    "    RR_List, PP_List, Null_List, Ori_idx, total_num = FindNeuronType (cell_features, mouse, day, ep, ep+1)\n",
    "else:\n",
    "    RR_List, PP_List, Null_List, Ori_idx, total_num = FindNeuronType (cell_features, mouse, day, ep+1, ep+2)\n",
    "if total_num == Fc3[0][0].shape[0]:\n",
    "    print('Same neruron number ')\n",
    "else:\n",
    "    print('Neuron number error, select another day.')"
   ]
  },
  {
   "cell_type": "code",
   "execution_count": null,
   "id": "a3e2ecfb-56e7-47b3-87da-6ff724dc0646",
   "metadata": {},
   "outputs": [],
   "source": []
  },
  {
   "cell_type": "code",
   "execution_count": 208,
   "id": "70f5d3b5-ab83-4e0d-b2ca-f264163a760f",
   "metadata": {
    "scrolled": true
   },
   "outputs": [
    {
     "name": "stderr",
     "output_type": "stream",
     "text": [
      "C:\\Users\\bjian\\AppData\\Local\\Temp\\ipykernel_45888\\698849444.py:25: SmallSampleWarning: After omitting NaNs, one or more axis-slices of one or more sample arguments is too small; corresponding elements of returned arrays will be NaN. See documentation for sample size requirements.\n",
      "  skew = scipy.stats.skew(Sigs_dFF, nan_policy='omit', axis=1)\n"
     ]
    },
    {
     "name": "stdout",
     "output_type": "stream",
     "text": [
      "(455, 535)\n",
      "[2, 3, 5, 7, 9, 11, 12, 13, 14, 15, 16, 17, 18, 19, 20, 21, 22, 23, 24]\n",
      "[1, 4, 6, 8, 10]\n",
      "[1, 4, 6, 8, 10]\n",
      "torch.Size([2958, 455]) torch.Size([2958, 1])\n",
      "torch.Size([1029, 455]) torch.Size([1029, 1])\n",
      "torch.Size([1422, 455]) torch.Size([1422, 1])\n"
     ]
    }
   ],
   "source": [
    "# Create the data for training, validating and testing. \n",
    "# input are dFF signals, Y position, licks, trial type, and epoch id for training.\n",
    "# only use the pre-reward signals for training, validation, and testing. training and validation use successful trials, test uses failure trials.\n",
    "# outputs are tensors of training/validation/testing data, labels.\n",
    "def CreateData(Fc3, Y, L, Type, rl, epoch_num, shuffle = False):\n",
    "    success_trial_id = [i for i in range(len(Type[epoch_num])) if Type[epoch_num][i] == 1]\n",
    "    failure_trial_id = [i for i in range(len(Type[epoch_num])) if Type[epoch_num][i] == 0]\n",
    "    print(success_trial_id)\n",
    "    print(failure_trial_id)\n",
    "    # EpochX = Fc3[0]\n",
    "    EpochX = Fc3[epoch_num]\n",
    "    # EpochX = loaded_data2[epoch_num]\n",
    "    EpochY = Y[epoch_num]\n",
    "    EpochL = L[epoch_num]\n",
    "    # print(len(EpochX))\n",
    "    \n",
    "    TrainingTrial = []\n",
    "    TrainingTrial = []\n",
    "    ValidateTrial = []\n",
    "    for i in range(0,len(success_trial_id)-1):\n",
    "      if (i+2) % 3 == 0:\n",
    "        ValidateTrial.append(success_trial_id[i])\n",
    "      else:\n",
    "        TrainingTrial.append(success_trial_id[i])\n",
    "    # TestingTrial = TrainingTrial.copy()\n",
    "    TestingTrial = failure_trial_id.copy()\n",
    "    if len(failure_trial_id) == 0 or len(success_trial_id) == 0:\n",
    "        return [], [], [], [], [], []\n",
    "    # if max(failure_trial_id) < min(success_trial_id):\n",
    "    #     return [], [], [], [], [], []\n",
    "    # else:\n",
    "    #     TestingTrial = [i for i in failure_trial_id if i > min(success_trial_id)]\n",
    "    print(TestingTrial)\n",
    "    \n",
    "    y = EpochY[TrainingTrial[0]]\n",
    "    num_per_bin, bins = np.histogram(y, np.arange(0,180,2))\n",
    "    tmp_idx = np.where(num_per_bin > 10)[0]\n",
    "    tmp_tr = set(np.arange(0,y.shape[0]))\n",
    "    for bin_idx in tmp_idx:\n",
    "      tmp_tr = tmp_tr & set(np.where( (EpochY[TrainingTrial[0]] < bins[bin_idx]) | (EpochY[TrainingTrial[0]] > bins[bin_idx+1]) )[0])\n",
    "    tmp_tr = tmp_tr & set(np.where( (EpochY[TrainingTrial[0]] < rl[epoch_num]) )[0])\n",
    "    tmp_tr = np.array(list(tmp_tr))\n",
    "    tmp_tr = np.sort(tmp_tr)\n",
    "    TrainingData = EpochX[TrainingTrial[0]][:, tmp_tr]\n",
    "    TrainingLabel = EpochL[TrainingTrial[0]][tmp_tr].reshape(-1,1)\n",
    "\n",
    "    y = EpochY[TestingTrial[0]]\n",
    "    num_per_bin, bins = np.histogram(y, np.arange(0,180,2))\n",
    "    tmp_idx = np.where(num_per_bin > 10)[0]\n",
    "    tmp_tr = set(np.arange(0,y.shape[0]))\n",
    "    for bin_idx in tmp_idx:\n",
    "      tmp_tr = tmp_tr & set(np.where( (EpochY[TestingTrial[0]] < bins[bin_idx]) | (EpochY[TestingTrial[0]] > bins[bin_idx+1]) )[0])\n",
    "    tmp_tr = tmp_tr & set(np.where( (EpochY[TestingTrial[0]] < rl[epoch_num]) )[0])\n",
    "    tmp_tr = np.array(list(tmp_tr))\n",
    "    tmp_tr = np.sort(tmp_tr)\n",
    "    TestingData = EpochX[TestingTrial[0]][:, tmp_tr]\n",
    "    TestingLabel = EpochL[TestingTrial[0]][tmp_tr].reshape(-1,1)\n",
    "    # y = EpochY[TrainingTrial[0]]\n",
    "    # tmp_tr = np.where(y < 3)[0]\n",
    "    # TestingData = EpochX[TrainingTrial[0]][:, tmp_tr]\n",
    "    # TestingLabel = EpochY[TrainingTrial[0]][tmp_tr].reshape(-1,1)\n",
    "    \n",
    "    y = EpochY[ValidateTrial[0]]\n",
    "    num_per_bin, bins = np.histogram(y, np.arange(0,180,2))\n",
    "    tmp_idx = np.where(num_per_bin > 10)[0]\n",
    "    tmp_tr = set(np.arange(0,y.shape[0]))\n",
    "    for bin_idx in tmp_idx:\n",
    "      tmp_tr = tmp_tr & set(np.where( (EpochY[ValidateTrial[0]] < bins[bin_idx]) | (EpochY[ValidateTrial[0]] > bins[bin_idx+1]) )[0])\n",
    "    tmp_tr = tmp_tr & set(np.where( (EpochY[ValidateTrial[0]] < rl[epoch_num]) )[0])\n",
    "    tmp_tr = np.array(list(tmp_tr))\n",
    "    tmp_tr = np.sort(tmp_tr)\n",
    "    ValidateData = EpochX[ValidateTrial[0]][:, tmp_tr]\n",
    "    ValidateLabel = EpochL[ValidateTrial[0]][tmp_tr].reshape(-1,1)\n",
    "    \n",
    "    for i in TrainingTrial[1:]:\n",
    "      y = EpochY[i]\n",
    "      num_per_bin, bins = np.histogram(y, np.arange(0,180,2))\n",
    "      tmp_idx = np.where(num_per_bin > 10)[0]\n",
    "      tmp_tr = set(np.arange(0,y.shape[0]))\n",
    "      for bin_idx in tmp_idx:\n",
    "        tmp_tr = tmp_tr & set(np.where( (EpochY[i] < bins[bin_idx]) | (EpochY[i] > bins[bin_idx+1]) )[0])\n",
    "      tmp_tr = tmp_tr & set(np.where( (EpochY[i] < rl[epoch_num]) )[0])\n",
    "      tmp_tr = np.array(list(tmp_tr))\n",
    "      tmp_tr = np.sort(tmp_tr)\n",
    "      # print(EpochX[i].shape, EpochY[i].shape)\n",
    "      TrainingData = np.concatenate((TrainingData, EpochX[i][:, tmp_tr]), axis=1)\n",
    "      TrainingLabel = np.concatenate((TrainingLabel, EpochL[i][tmp_tr].reshape(-1,1)), axis=0)\n",
    "    \n",
    "    for i in ValidateTrial[1:]:\n",
    "      y = EpochY[i]\n",
    "      num_per_bin, bins = np.histogram(y, np.arange(0,180,2))\n",
    "      tmp_idx = np.where(num_per_bin > 10)[0]\n",
    "      tmp_tr = set(np.arange(0,y.shape[0]))\n",
    "      for bin_idx in tmp_idx:\n",
    "        tmp_tr = tmp_tr & set(np.where( (EpochY[i] < bins[bin_idx]) | (EpochY[i] > bins[bin_idx+1]) )[0])\n",
    "      tmp_tr = tmp_tr & set(np.where( (EpochY[i] < rl[epoch_num]) )[0])\n",
    "      tmp_tr = np.array(list(tmp_tr))\n",
    "      tmp_tr = np.sort(tmp_tr)\n",
    "      ValidateData = np.concatenate((ValidateData, EpochX[i][:, tmp_tr]), axis=1)\n",
    "      ValidateLabel = np.concatenate((ValidateLabel, EpochL[i][tmp_tr].reshape(-1,1)), axis=0)\n",
    "    \n",
    "    for i in TestingTrial[1:]:\n",
    "    # for i in TrainingTrial[1:]:\n",
    "      y = EpochY[i]\n",
    "      # tmp_tr = np.where(y < 3)[0]\n",
    "      num_per_bin, bins = np.histogram(y, np.arange(0,180,2))\n",
    "      tmp_idx = np.where(num_per_bin > 10)[0]\n",
    "      tmp_tr = set(np.arange(0,y.shape[0]))\n",
    "      for bin_idx in tmp_idx:\n",
    "        tmp_tr = tmp_tr & set(np.where( (EpochY[i] < bins[bin_idx]) | (EpochY[i] > bins[bin_idx+1]) )[0])\n",
    "      tmp_tr = tmp_tr & set(np.where( (EpochY[i] < rl[epoch_num]) )[0])\n",
    "      tmp_tr = np.array(list(tmp_tr))\n",
    "      tmp_tr = np.sort(tmp_tr)\n",
    "      TestingData = np.concatenate((TestingData, EpochX[i][:, tmp_tr]), axis=1)\n",
    "      TestingLabel = np.concatenate((TestingLabel, EpochL[i][tmp_tr].reshape(-1,1)), axis=0)\n",
    "    \n",
    "    th = 0.01\n",
    "    TrainingData = torch.tensor(TrainingData).t().float()\n",
    "    TrainingLabel = torch.tensor(TrainingLabel).float()\n",
    "    TestingData = torch.tensor(TestingData).t().float()\n",
    "    TestingLabel = torch.tensor(TestingLabel).float()\n",
    "    ValidateData = torch.tensor(ValidateData).t().float()\n",
    "    ValidateLabel = torch.tensor(ValidateLabel).float()\n",
    "    # TrainingData, TrainingLabel = RemoveNan(TrainingData, TrainingLabel)\n",
    "    # TestingData, TestingLabel = RemoveNan(TestingData, TestingLabel)\n",
    "    # ValidateData, ValidateLabel = RemoveNan(ValidateData, ValidateLabel)\n",
    "    indices = torch.randperm(TrainingLabel.size(0))\n",
    "    if shuffle:\n",
    "        TrainingLabel = TrainingLabel[indices]\n",
    "    TrainingData[TrainingData < th] = 0\n",
    "    TestingData[TestingData < th] = 0\n",
    "    ValidateData[ValidateData < th] = 0\n",
    "    print(TrainingData.shape, TrainingLabel.shape)\n",
    "    print(TestingData.shape, TestingLabel.shape)\n",
    "    print(ValidateData.shape, ValidateLabel.shape)\n",
    "\n",
    "    return TrainingData, TrainingLabel, TestingData, TestingLabel, ValidateData, ValidateLabel\n",
    "\n",
    "Fc3, X, Y, L, TP, rl, _ = GetData(mouse, day, interneuron = False)\n",
    "\n",
    "print(Fc3[0][0].shape)\n",
    "# Although function uses variable Fc3, real input is dFF signals, X. Fc3 has a much worse performance.\n",
    "TrD, TrL, TsD, TsL, VlD, VlL = CreateData(X, Y, L, TP, rl, epoch_num = ep)"
   ]
  },
  {
   "cell_type": "code",
   "execution_count": 209,
   "id": "7c368e7b-144e-4aa8-a597-f7a66b38254a",
   "metadata": {},
   "outputs": [],
   "source": [
    "# Convert tensor to data loader\n",
    "def Data2Dataloader(TrainingData, TrainingLabel, TestingData, TestingLabel, ValidateData, ValidateLabel, batch_size = 64):\n",
    "    Train_dataset = CreateTimeSeriesData(TrainingData, TrainingLabel)\n",
    "    Train_loader = DataLoader(dataset=Train_dataset, batch_size=batch_size, shuffle=True, drop_last = True)\n",
    "    \n",
    "    Test_dataset = CreateTimeSeriesData(TestingData, TestingLabel)\n",
    "    Test_loader = DataLoader(dataset=Test_dataset, batch_size=batch_size, shuffle=False)\n",
    "    \n",
    "    Validate_dataset = CreateTimeSeriesData(ValidateData, ValidateLabel)\n",
    "    Validate_loader = DataLoader(dataset=Validate_dataset, batch_size=batch_size, shuffle=False, drop_last = False)\n",
    "    return Train_loader, Test_loader, Validate_loader\n",
    "\n",
    "Train_loader, Test_loader, Validate_loader = Data2Dataloader(TrD, TrL, TsD, TsL, VlD, VlL)"
   ]
  },
  {
   "cell_type": "code",
   "execution_count": 129,
   "id": "c95500b2-c7d7-45ad-925d-b180a722d784",
   "metadata": {
    "scrolled": true
   },
   "outputs": [
    {
     "data": {
      "text/plain": [
       "torch.Size([2958, 455])"
      ]
     },
     "execution_count": 129,
     "metadata": {},
     "output_type": "execute_result"
    }
   ],
   "source": [
    "TrD.shape"
   ]
  },
  {
   "cell_type": "code",
   "execution_count": 130,
   "id": "e765ea7b-145e-4c7e-a7bc-9975f36d0817",
   "metadata": {},
   "outputs": [
    {
     "name": "stdout",
     "output_type": "stream",
     "text": [
      "(1232,)\n",
      "0.7611111111111111\n"
     ]
    },
    {
     "data": {
      "image/png": "[encoded data removed]",
      "text/plain": [
       "<Figure size 500x500 with 3 Axes>"
      ]
     },
     "metadata": {},
     "output_type": "display_data"
    }
   ],
   "source": [
    "plt.figure(figsize = (5,5))\n",
    "plt.subplot(3,1,1)\n",
    "plt.plot(TrL)\n",
    "print(np.where(TrL > 0)[0].shape)\n",
    "# plt.axhline(y=rl[ep]/180, color='r', linestyle='--')\n",
    "plt.subplot(3,1,2)\n",
    "plt.plot(TsL)\n",
    "# plt.axhline(y=rl[ep]/180, color='r', linestyle='--')\n",
    "plt.subplot(3,1,3)\n",
    "plt.plot(VlL)\n",
    "# plt.axhline(y=rl[ep]/180, color='r', linestyle='--')\n",
    "print(rl[ep]/180)"
   ]
  },
  {
   "cell_type": "code",
   "execution_count": null,
   "id": "fbcbcde4-925a-44da-9d05-3585503c225c",
   "metadata": {},
   "outputs": [],
   "source": []
  },
  {
   "cell_type": "code",
   "execution_count": 182,
   "id": "b38a40f3-1cf2-4f4e-9910-ee0245db8d43",
   "metadata": {
    "scrolled": true
   },
   "outputs": [
    {
     "name": "stdout",
     "output_type": "stream",
     "text": [
      "Epoch [1/1000], Train Loss: 0.0244\n",
      "Epoch [1/1000], Test Loss: 0.0298\n",
      "Epoch [51/1000], Train Loss: 0.0207\n",
      "Epoch [51/1000], Test Loss: 0.0422\n",
      "Epoch [101/1000], Train Loss: 0.0186\n",
      "Epoch [101/1000], Test Loss: 0.0398\n",
      "Epoch [151/1000], Train Loss: 0.0171\n",
      "Epoch [151/1000], Test Loss: 0.0382\n",
      "Epoch [201/1000], Train Loss: 0.0157\n",
      "Epoch [201/1000], Test Loss: 0.0364\n",
      "Epoch [251/1000], Train Loss: 0.0143\n",
      "Epoch [251/1000], Test Loss: 0.0343\n",
      "Epoch [301/1000], Train Loss: 0.0132\n",
      "Epoch [301/1000], Test Loss: 0.0328\n",
      "Epoch [351/1000], Train Loss: 0.0118\n",
      "Epoch [351/1000], Test Loss: 0.0303\n",
      "Epoch [401/1000], Train Loss: 0.0107\n",
      "Epoch [401/1000], Test Loss: 0.0280\n",
      "Epoch [451/1000], Train Loss: 0.0100\n",
      "Epoch [451/1000], Test Loss: 0.0260\n",
      "Epoch [501/1000], Train Loss: 0.0094\n",
      "Epoch [501/1000], Test Loss: 0.0246\n",
      "Epoch [551/1000], Train Loss: 0.0088\n",
      "Epoch [551/1000], Test Loss: 0.0232\n",
      "Epoch [601/1000], Train Loss: 0.0083\n",
      "Epoch [601/1000], Test Loss: 0.0222\n",
      "Epoch [651/1000], Train Loss: 0.0079\n",
      "Epoch [651/1000], Test Loss: 0.0214\n",
      "Epoch [701/1000], Train Loss: 0.0076\n",
      "Epoch [701/1000], Test Loss: 0.0209\n",
      "Epoch [751/1000], Train Loss: 0.0072\n",
      "Epoch [751/1000], Test Loss: 0.0206\n",
      "Epoch [801/1000], Train Loss: 0.0069\n",
      "Epoch [801/1000], Test Loss: 0.0201\n",
      "Epoch [851/1000], Train Loss: 0.0066\n",
      "Epoch [851/1000], Test Loss: 0.0195\n",
      "Epoch [901/1000], Train Loss: 0.0064\n",
      "Epoch [901/1000], Test Loss: 0.0190\n",
      "Epoch [951/1000], Train Loss: 0.0062\n",
      "Epoch [951/1000], Test Loss: 0.0190\n"
     ]
    }
   ],
   "source": [
    "# Training process\n",
    "def TrainModel(model, optimizer, device, Train_loader, Validate_loader, mse_loss, kl_loss, kl_weight, num_epochs = 1000):\n",
    "    l = []\n",
    "    val_l = []\n",
    "    \n",
    "    for epoch in range(num_epochs):\n",
    "        train_loss = 0.0\n",
    "        for inputs, targets in Train_loader:\n",
    "            # Forward pass\n",
    "            inputs, targets = inputs.to(device), targets.to(device)\n",
    "            # inputs, targets = inputs.to(device), targets.squeeze(-1).to(torch.int64).to(device)\n",
    "            outputs = model(inputs)\n",
    "            # loss = ce_loss(outputs, targets)\n",
    "            # mse = mae_loss(outputs, targets)\n",
    "            loss = mse_loss(outputs, targets)\n",
    "            # kl = kl_loss(model)\n",
    "            # loss = ce + kl_weight*kl\n",
    "    \n",
    "            # Backward pass and optimization\n",
    "            optimizer.zero_grad()\n",
    "            loss.backward()\n",
    "            optimizer.step()\n",
    "            train_loss += loss.item()\n",
    "    \n",
    "        l.append(train_loss/len(Train_loader))\n",
    "        if epoch % 50 == 0:\n",
    "            print('Epoch [{}/{}], Train Loss: {:.4f}'.format(epoch+1, num_epochs, train_loss/len(Train_loader)))\n",
    "            test_loss = 0\n",
    "            for inputs, targets in Validate_loader:\n",
    "              # Forward pass\n",
    "              inputs, targets = inputs.to(device), targets.to(device)\n",
    "              # inputs, targets = inputs.to(device), targets.squeeze(-1).to(torch.int64).to(device)\n",
    "              outputs = model(inputs)\n",
    "              loss = mse_loss(outputs, targets)\n",
    "              # loss = ce_loss(outputs, targets)\n",
    "              test_loss += loss.item()\n",
    "            print('Epoch [{}/{}], Test Loss: {:.4f}'.format(epoch+1, num_epochs, test_loss/len(Test_loader)))\n",
    "    return model\n",
    "\n",
    "# training example\n",
    "input_size = TrD.shape[-1]\n",
    "output_size = 1\n",
    "# mse loss\n",
    "mse_loss = nn.MSELoss()\n",
    "# linear model\n",
    "model = nn.Sequential(nn.Linear(input_size, output_size), nn.ReLU())\n",
    "    \n",
    "model = model.to(device)\n",
    "optimizer = torch.optim.Adam(model.parameters(), lr=1e-5)\n",
    "# TrD, TrL, TsD, TsL, VlD, VlL\n",
    "model = TrainModel(model, optimizer, device, Train_loader, Validate_loader, mse_loss, kl_loss, kl_weight, num_epochs = 1000)"
   ]
  },
  {
   "cell_type": "code",
   "execution_count": null,
   "id": "31f26822-5bd0-4d18-8d6a-996333dafa8b",
   "metadata": {},
   "outputs": [],
   "source": []
  },
  {
   "cell_type": "code",
   "execution_count": 184,
   "id": "0551842e-1874-4031-ad70-90367d48cbe7",
   "metadata": {},
   "outputs": [
    {
     "name": "stdout",
     "output_type": "stream",
     "text": [
      "0.013887465725217582\n"
     ]
    },
    {
     "data": {
      "image/png": "[encoded data removed]",
      "text/plain": [
       "<Figure size 800x240 with 1 Axes>"
      ]
     },
     "metadata": {},
     "output_type": "display_data"
    }
   ],
   "source": [
    "# check validation sets.\n",
    "pred_y = np.zeros([1,1])\n",
    "truth = np.zeros([1,1])\n",
    "l = 0\n",
    "rew_loc = rl[ep]/180\n",
    "# temp_idx = torch.arange(inputs.cpu().detach().size(1))\n",
    "for x,t in Validate_loader: # Test_loader for testing\n",
    "# for x,t in Train_loader:\n",
    "  t = t.to(device)\n",
    "  # x = x[:,temp_idx].to(device)\n",
    "  x = x.to(device)\n",
    "  y = model(x)\n",
    "  # y =torch.argmax(y, dim = 1).unsqueeze(-1)\n",
    "  pred_y = np.concatenate((pred_y,y.cpu().detach().numpy()), axis = 0)\n",
    "  truth = np.concatenate((truth,t.cpu().detach().numpy()), axis = 0)\n",
    "  loss = mse_loss(t, y)\n",
    "  l += loss.item()\n",
    "print(l/len(Validate_loader))\n",
    "plt.figure(figsize=(10, 3), dpi=80)\n",
    "plt.plot(truth[1:], label = 'truth')\n",
    "plt.plot(pred_y[1:], alpha = 0.8, label = 'predict')\n",
    "plt.ylim(-0.05,1.05)\n",
    "plt.legend()\n",
    "plt.show()"
   ]
  },
  {
   "cell_type": "code",
   "execution_count": null,
   "id": "ec3a4ca0-b3a4-49e8-be10-222dc4e71c24",
   "metadata": {},
   "outputs": [],
   "source": []
  },
  {
   "cell_type": "code",
   "execution_count": 187,
   "id": "2ada51f3-776f-4aa1-85fd-fcce73ff7c9a",
   "metadata": {},
   "outputs": [
    {
     "data": {
      "text/plain": [
       "([<matplotlib.axis.YTick at 0x18e65f3e180>], [Text(0, 0, '0')])"
      ]
     },
     "execution_count": 187,
     "metadata": {},
     "output_type": "execute_result"
    },
    {
     "data": {
      "image/png": "[encoded data removed]",
      "text/plain": [
       "<Figure size 1000x200 with 1 Axes>"
      ]
     },
     "metadata": {},
     "output_type": "display_data"
    }
   ],
   "source": [
    "# get weights of linear model\n",
    "weights = model.state_dict()['0.weight'].detach().cpu().numpy()\n",
    "plt.figure(figsize = (10, 2))\n",
    "plt.imshow(weights, aspect = 'auto', interpolation = 'None')\n",
    "plt.yticks([0])"
   ]
  },
  {
   "cell_type": "code",
   "execution_count": null,
   "id": "71c2af63-7152-48d5-b8ae-2994970e04b2",
   "metadata": {},
   "outputs": [],
   "source": []
  },
  {
   "cell_type": "code",
   "execution_count": 189,
   "id": "50df4528-40e6-427a-8299-d5b19eca4c53",
   "metadata": {},
   "outputs": [
    {
     "name": "stdout",
     "output_type": "stream",
     "text": [
      "[220 227 127 218  45 288 427 314 345 294 361 436 310 132 404 198 186 398\n",
      " 316 386 380 323 196 315 355 258 313 180 296 242 338  95 173 115 348 204\n",
      " 118 251 309 123 171 233 331  89 149 141 247 352 326 367  13 243 408 168\n",
      " 212  12 125 271 197 360  51 283 299 224 246   9 234 278 264  24 433 280\n",
      " 139  46 223 272 111 305 154 397  35 448 281 414 240 181   7 373 175 166\n",
      "   0]\n"
     ]
    }
   ],
   "source": [
    "# find top 20 percent of neurons that contribute to the prediction based on the weight.\n",
    "def top_percent_indices(vector, percent):\n",
    "    vector = np.asarray(vector)\n",
    "    n = len(vector)\n",
    "    k = int(n * percent)\n",
    "    if k == 0:\n",
    "        return np.array([])\n",
    "    indices = np.argpartition(vector, -k)[-k:]\n",
    "    indices = indices[np.argsort(-vector[indices])]\n",
    "    return indices\n",
    "\n",
    "weights = model.state_dict()['0.weight'].detach().cpu().numpy()\n",
    "top_20_percent_indices = top_percent_indices(weights[0], 0.2)\n",
    "print(top_20_percent_indices)"
   ]
  },
  {
   "cell_type": "code",
   "execution_count": 190,
   "id": "227c6a0b-8fb0-4767-992a-8ed0dd9ad134",
   "metadata": {},
   "outputs": [
    {
     "name": "stdout",
     "output_type": "stream",
     "text": [
      "(91,) (86,) (89,) 14 15 15\n"
     ]
    }
   ],
   "source": [
    "# check the number of RR, PP, Other cells in the lick cells.\n",
    "n_r = 0 # rr\n",
    "n_p = 0 # pp\n",
    "n_n = 0 # others\n",
    "def top_percent_indices(vector, percent):\n",
    "    vector = np.asarray(vector)\n",
    "    n = len(vector)\n",
    "    k = int(n * percent)\n",
    "    if k == 0:\n",
    "        return np.array([])\n",
    "    indices = np.argpartition(vector, -k)[-k:]\n",
    "    indices = indices[np.argsort(-vector[indices])]\n",
    "    return indices\n",
    "\n",
    "weights = model.state_dict()['0.weight'].detach().cpu().numpy()\n",
    "top_20_percent_indices = top_percent_indices(weights[0], 0.2)\n",
    "\n",
    "# for i in np.where(weights[0] > 0.025)[0]:\n",
    "for i in top_20_percent_indices:\n",
    "    if i in Ori_idx[RR_List]:\n",
    "        n_r += 1\n",
    "        # print('{} in RR List'.format(i))\n",
    "    if i in Ori_idx[PP_List]:\n",
    "        n_p += 1\n",
    "        # print('{} in PP List'.format(i))\n",
    "    if i in Ori_idx[Null_List]:\n",
    "        n_n += 1\n",
    "        # print('{} in Null List'.format(i))\n",
    "print(top_20_percent_indices.shape, RR_List.shape, PP_List.shape, n_r, n_p, n_n)"
   ]
  },
  {
   "cell_type": "code",
   "execution_count": null,
   "id": "11c3a025-ec6f-404e-955d-beed64725c92",
   "metadata": {},
   "outputs": [],
   "source": []
  },
  {
   "cell_type": "code",
   "execution_count": null,
   "id": "bfee4383-b12f-4ed0-9303-09a3fb64ace0",
   "metadata": {},
   "outputs": [],
   "source": []
  },
  {
   "cell_type": "code",
   "execution_count": null,
   "id": "32450afe-d555-4d5a-9902-d83e7bd41a3b",
   "metadata": {},
   "outputs": [],
   "source": []
  },
  {
   "cell_type": "code",
   "execution_count": null,
   "id": "4613587b-2753-4ace-b598-3f5eb289b066",
   "metadata": {},
   "outputs": [],
   "source": []
  }
 ],
 "metadata": {
  "kernelspec": {
   "display_name": "base",
   "language": "python",
   "name": "python3"
  },
  "language_info": {
   "codemirror_mode": {
    "name": "ipython",
    "version": 3
   },
   "file_extension": ".py",
   "mimetype": "text/x-python",
   "name": "python",
   "nbconvert_exporter": "python",
   "pygments_lexer": "ipython3",
   "version": "3.9.19"
  }
 },
 "nbformat": 4,
 "nbformat_minor": 5
}
